{
 "cells": [
  {
   "cell_type": "code",
   "execution_count": 2,
   "metadata": {},
   "outputs": [],
   "source": [
    "import pandas as pd\n",
    "import numpy as np\n",
    "from gensim.models import Doc2Vec\n",
    "from gensim.models.doc2vec import TaggedDocument\n",
    "import pickle"
   ]
  },
  {
   "cell_type": "code",
   "execution_count": 4,
   "metadata": {},
   "outputs": [],
   "source": [
    "with open('../hatexplain_data.pickle', 'rb') as file:\n",
    "    data = pickle.load(file)"
   ]
  },
  {
   "cell_type": "code",
   "execution_count": 6,
   "metadata": {},
   "outputs": [],
   "source": [
    "documents = data[\"documents\"]\n",
    "train_documents = data[\"train_documents\"]\n",
    "test_documents = data[\"test_documents\"]"
   ]
  },
  {
   "cell_type": "markdown",
   "metadata": {},
   "source": [
    "<h4>Format Curated Hatespeech Dataset</h4>"
   ]
  },
  {
   "cell_type": "code",
   "execution_count": 7,
   "metadata": {},
   "outputs": [],
   "source": [
    "d2v_vocab = pd.read_csv(\"embedding_training.csv\")"
   ]
  },
  {
   "cell_type": "code",
   "execution_count": 8,
   "metadata": {},
   "outputs": [],
   "source": [
    "d2v_sentences = [doc.split() for doc in (d2v_vocab[\"Content\"].tolist())]"
   ]
  },
  {
   "cell_type": "code",
   "execution_count": 9,
   "metadata": {},
   "outputs": [],
   "source": [
    "d2v_all_sentences = d2v_sentences + documents"
   ]
  },
  {
   "cell_type": "code",
   "execution_count": 10,
   "metadata": {},
   "outputs": [
    {
     "name": "stdout",
     "output_type": "stream",
     "text": [
      "745348\n"
     ]
    }
   ],
   "source": [
    "print(len(d2v_all_sentences))"
   ]
  },
  {
   "cell_type": "markdown",
   "metadata": {},
   "source": [
    "<h4>Doc2Vec Training</h4>"
   ]
  },
  {
   "cell_type": "code",
   "execution_count": 12,
   "metadata": {},
   "outputs": [],
   "source": [
    "vector_size = 300 \n",
    "window_size = 2\n",
    "min_count = 3\n",
    "workers = 4\n",
    "epochs = 5\n",
    "\n",
    "tagged_data = [TaggedDocument(words=_d, tags=[str(i)]) for i, _d in enumerate(d2v_all_sentences)]\n",
    "d2v_model = Doc2Vec(tagged_data, vector_size=300, window=5, min_count=5, workers=4, epochs=epochs)\n"
   ]
  },
  {
   "cell_type": "code",
   "execution_count": 13,
   "metadata": {},
   "outputs": [
    {
     "name": "stdout",
     "output_type": "stream",
     "text": [
      "62770\n"
     ]
    }
   ],
   "source": [
    "print(len(d2v_model.wv))"
   ]
  },
  {
   "cell_type": "code",
   "execution_count": 14,
   "metadata": {},
   "outputs": [
    {
     "name": "stdout",
     "output_type": "stream",
     "text": [
      "[('this', 0.677055835723877), ('the', 0.6677677631378174), ('that', 0.6171519756317139), ('it', 0.6042236685752869), ('another', 0.574511706829071)]\n"
     ]
    }
   ],
   "source": [
    "similar_words = d2v_model.wv.most_similar('a', topn=5)\n",
    "print(similar_words)"
   ]
  },
  {
   "cell_type": "markdown",
   "metadata": {},
   "source": [
    "<h4>D2V Embeddings</h4>"
   ]
  },
  {
   "cell_type": "code",
   "execution_count": 15,
   "metadata": {},
   "outputs": [],
   "source": [
    "def create_doc_vector(documents, model):\n",
    "    matrix = []\n",
    "    for doc in documents:\n",
    "        vec = model.infer_vector(doc)\n",
    "        matrix.append(vec)\n",
    "    matrix = np.array(matrix)\n",
    "    return matrix"
   ]
  },
  {
   "cell_type": "code",
   "execution_count": 16,
   "metadata": {},
   "outputs": [],
   "source": [
    "X_train_d2v = create_doc_vector(train_documents, d2v_model)\n",
    "X_test_d2v = create_doc_vector(test_documents, d2v_model)"
   ]
  },
  {
   "cell_type": "code",
   "execution_count": 17,
   "metadata": {},
   "outputs": [],
   "source": [
    "data_to_save = {\n",
    "    \"X_train_d2v\": X_train_d2v,\n",
    "    \"X_test_d2v\": X_test_d2v\n",
    "}\n",
    "\n",
    "with open('../saved_embeddings/d2v_embeddings.pickle', 'wb') as file:\n",
    "    pickle.dump(data_to_save, file)"
   ]
  },
  {
   "cell_type": "code",
   "execution_count": 18,
   "metadata": {},
   "outputs": [],
   "source": [
    "# Save the model\n",
    "d2v_model.save(\"../trained_embedding_models/my_d2v_model.model\")"
   ]
  }
 ],
 "metadata": {
  "kernelspec": {
   "display_name": ".venv",
   "language": "python",
   "name": "python3"
  },
  "language_info": {
   "codemirror_mode": {
    "name": "ipython",
    "version": 3
   },
   "file_extension": ".py",
   "mimetype": "text/x-python",
   "name": "python",
   "nbconvert_exporter": "python",
   "pygments_lexer": "ipython3",
   "version": "3.9.9"
  }
 },
 "nbformat": 4,
 "nbformat_minor": 2
}
