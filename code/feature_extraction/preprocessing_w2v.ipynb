{
 "cells": [
  {
   "cell_type": "code",
   "execution_count": 1,
   "metadata": {},
   "outputs": [],
   "source": [
    "import pandas as pd\n",
    "import numpy as np\n",
    "from gensim.models import Word2Vec\n",
    "import pickle"
   ]
  },
  {
   "cell_type": "code",
   "execution_count": 2,
   "metadata": {},
   "outputs": [],
   "source": [
    "with open('../hatexplain_data.pickle', 'rb') as file:\n",
    "    data = pickle.load(file)"
   ]
  },
  {
   "cell_type": "code",
   "execution_count": 3,
   "metadata": {},
   "outputs": [],
   "source": [
    "documents = data[\"documents\"]\n",
    "train_documents = data[\"train_documents\"]\n",
    "test_documents = data[\"test_documents\"]\n",
    "documents_binary = data[\"documents_binary\"]\n",
    "train_documents_binary = data[\"train_documents_binary\"]\n",
    "test_documents_binary = data[\"test_documents_binary\"]"
   ]
  },
  {
   "cell_type": "markdown",
   "metadata": {},
   "source": [
    "<h4>Format Curated Hatespeech Dataset</h4>"
   ]
  },
  {
   "cell_type": "code",
   "execution_count": 4,
   "metadata": {},
   "outputs": [],
   "source": [
    "w2v_vocab = pd.read_csv(\"embedding_training.csv\")"
   ]
  },
  {
   "cell_type": "code",
   "execution_count": 5,
   "metadata": {},
   "outputs": [],
   "source": [
    "w2v_sentences = [doc.split() for doc in (w2v_vocab[\"Content\"].tolist())]"
   ]
  },
  {
   "cell_type": "code",
   "execution_count": 6,
   "metadata": {},
   "outputs": [],
   "source": [
    "w2v_all_sentences = w2v_sentences + documents"
   ]
  },
  {
   "cell_type": "markdown",
   "metadata": {},
   "source": [
    "<h4>Word2Vec Training</h4>"
   ]
  },
  {
   "cell_type": "code",
   "execution_count": 7,
   "metadata": {},
   "outputs": [],
   "source": [
    "vector_size = 300 \n",
    "window_size = 2\n",
    "min_count = 3\n",
    "workers = 4 \n",
    "epochs = 5\n",
    "\n",
    "w2v_model = Word2Vec(\n",
    "                 sentences=w2v_all_sentences,\n",
    "                 vector_size=vector_size,\n",
    "                 window=window_size,\n",
    "                 min_count=min_count,\n",
    "                 workers=workers,\n",
    "                 epochs=epochs\n",
    "                )\n"
   ]
  },
  {
   "cell_type": "code",
   "execution_count": 8,
   "metadata": {},
   "outputs": [],
   "source": [
    "# print(len(w2v_model.wv))"
   ]
  },
  {
   "cell_type": "code",
   "execution_count": 9,
   "metadata": {},
   "outputs": [],
   "source": [
    "# similar_words = w2v_model.wv.most_similar('<number>', topn=10)\n",
    "# print(similar_words)"
   ]
  },
  {
   "cell_type": "code",
   "execution_count": 10,
   "metadata": {},
   "outputs": [],
   "source": [
    "def tokens_to_average_embedding(doc, model):\n",
    "    embeddings = []\n",
    "    for word in doc:\n",
    "        # Check if the word is in the model\n",
    "        if word in model.wv:\n",
    "            embeddings.append(model.wv[word])\n",
    "        else:\n",
    "            # If the word is OOV, append a zero vector\n",
    "            pass\n",
    "            \n",
    "    # Calculate the average embedding. If no words were found, the result will be a zero vector.\n",
    "    return np.mean(embeddings, axis=0) if embeddings else np.zeros(model.vector_size)"
   ]
  },
  {
   "cell_type": "markdown",
   "metadata": {},
   "source": [
    "<h4>W2V Embeddings</h4>"
   ]
  },
  {
   "cell_type": "code",
   "execution_count": 11,
   "metadata": {},
   "outputs": [],
   "source": [
    "#Word2Vec Embeddings\n",
    "X_train_w2v = np.array([tokens_to_average_embedding(doc, w2v_model) for doc in train_documents])\n",
    "X_test_w2v = np.array([tokens_to_average_embedding(doc, w2v_model) for doc in test_documents])\n",
    "\n",
    "X_train_w2v_binary = np.array([tokens_to_average_embedding(doc, w2v_model) for doc in train_documents_binary])\n",
    "X_test_w2v_binary = np.array([tokens_to_average_embedding(doc, w2v_model) for doc in test_documents_binary])"
   ]
  },
  {
   "cell_type": "code",
   "execution_count": 12,
   "metadata": {},
   "outputs": [
    {
     "name": "stdout",
     "output_type": "stream",
     "text": [
      "(10683, 300)\n"
     ]
    }
   ],
   "source": [
    "print(X_train_w2v_binary.shape)"
   ]
  },
  {
   "cell_type": "code",
   "execution_count": 13,
   "metadata": {},
   "outputs": [],
   "source": [
    "data_to_save = {\n",
    "    \"X_train_w2v\": X_train_w2v,\n",
    "    \"X_test_w2v\": X_test_w2v,\n",
    "    \"X_train_w2v_binary\": X_train_w2v_binary,\n",
    "    \"X_test_w2v_binary\": X_test_w2v_binary\n",
    "}\n",
    "\n",
    "with open('../saved_embeddings/w2v_embeddings.pickle', 'wb') as file:\n",
    "    pickle.dump(data_to_save, file)"
   ]
  },
  {
   "cell_type": "code",
   "execution_count": 14,
   "metadata": {},
   "outputs": [],
   "source": [
    "# Save the model\n",
    "w2v_model.save(\"../trained_embedding_models/my_w2v_model.model\")"
   ]
  }
 ],
 "metadata": {
  "kernelspec": {
   "display_name": ".venv",
   "language": "python",
   "name": "python3"
  },
  "language_info": {
   "codemirror_mode": {
    "name": "ipython",
    "version": 3
   },
   "file_extension": ".py",
   "mimetype": "text/x-python",
   "name": "python",
   "nbconvert_exporter": "python",
   "pygments_lexer": "ipython3",
   "version": "3.9.9"
  }
 },
 "nbformat": 4,
 "nbformat_minor": 2
}
