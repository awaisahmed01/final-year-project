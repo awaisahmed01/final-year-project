{
 "cells": [
  {
   "cell_type": "code",
   "execution_count": 1,
   "metadata": {},
   "outputs": [],
   "source": [
    "import pandas as pd\n",
    "import numpy as np\n",
    "from gensim.models import FastText\n",
    "import pickle"
   ]
  },
  {
   "cell_type": "code",
   "execution_count": 2,
   "metadata": {},
   "outputs": [],
   "source": [
    "with open('../hatexplain_data.pickle', 'rb') as file:\n",
    "    data = pickle.load(file)"
   ]
  },
  {
   "cell_type": "code",
   "execution_count": 3,
   "metadata": {},
   "outputs": [],
   "source": [
    "documents = data[\"documents\"]\n",
    "train_documents = data[\"train_documents\"]\n",
    "test_documents = data[\"test_documents\"]"
   ]
  },
  {
   "cell_type": "markdown",
   "metadata": {},
   "source": [
    "<h4>Format Curated Hatespeech Dataset</h4>"
   ]
  },
  {
   "cell_type": "code",
   "execution_count": 4,
   "metadata": {},
   "outputs": [],
   "source": [
    "ft_vocab = pd.read_csv(\"embedding_training.csv\")"
   ]
  },
  {
   "cell_type": "code",
   "execution_count": 5,
   "metadata": {},
   "outputs": [],
   "source": [
    "ft_sentences = [doc.split() for doc in (ft_vocab[\"Content\"].tolist())]"
   ]
  },
  {
   "cell_type": "code",
   "execution_count": 6,
   "metadata": {},
   "outputs": [],
   "source": [
    "ft_all_sentences = ft_sentences + documents"
   ]
  },
  {
   "cell_type": "markdown",
   "metadata": {},
   "source": [
    "<h4>fastText Training</h4>"
   ]
  },
  {
   "cell_type": "code",
   "execution_count": 7,
   "metadata": {},
   "outputs": [],
   "source": [
    "# Define Word2Vec parameters\n",
    "vector_size = 300  # You can experiment with different vector sizes\n",
    "window_size = 3\n",
    "min_count = 3\n",
    "workers = 4  # Adjust the number of workers based on your CPU cores\n",
    "epochs = 5\n",
    "\n",
    "# Training the FastText model\n",
    "ft_model = FastText(\n",
    "    sentences=ft_sentences,\n",
    "    vector_size=vector_size, \n",
    "    window=window_size,\n",
    "    min_count=min_count,\n",
    "    epochs=epochs\n",
    ")"
   ]
  },
  {
   "cell_type": "code",
   "execution_count": null,
   "metadata": {},
   "outputs": [],
   "source": [
    "print(len(ft_model.wv))"
   ]
  },
  {
   "cell_type": "code",
   "execution_count": null,
   "metadata": {},
   "outputs": [],
   "source": [
    "similar_words = ft_model.wv.most_similar('<user>', topn=5)\n",
    "print(similar_words)"
   ]
  },
  {
   "cell_type": "code",
   "execution_count": 8,
   "metadata": {},
   "outputs": [],
   "source": [
    "def tokens_to_average_embedding(doc, model):\n",
    "    embeddings = []\n",
    "    for word in doc:\n",
    "        embeddings.append(model.wv[word])\n",
    "        \n",
    "            \n",
    "    # Calculate the average embedding. If no words were found, the result will be a zero vector.\n",
    "    return np.mean(embeddings, axis=0)"
   ]
  },
  {
   "cell_type": "markdown",
   "metadata": {},
   "source": [
    "<h4>fastText Embeddings</h4>"
   ]
  },
  {
   "cell_type": "code",
   "execution_count": 9,
   "metadata": {},
   "outputs": [],
   "source": [
    "#FastText Embeddings\n",
    "X_train_ft = np.array([tokens_to_average_embedding(doc, ft_model) for doc in train_documents])\n",
    "X_test_ft = np.array([tokens_to_average_embedding(doc, ft_model) for doc in test_documents])"
   ]
  },
  {
   "cell_type": "code",
   "execution_count": null,
   "metadata": {},
   "outputs": [],
   "source": [
    "print(X_train_ft[0])"
   ]
  },
  {
   "cell_type": "code",
   "execution_count": 11,
   "metadata": {},
   "outputs": [],
   "source": [
    "data_to_save = {\n",
    "    \"X_train_ft\": X_train_ft,\n",
    "    \"X_test_ft\": X_test_ft\n",
    "}\n",
    "\n",
    "with open('../saved_embeddings/fastText_embeddings.pickle', 'wb') as file:\n",
    "    pickle.dump(data_to_save, file)"
   ]
  },
  {
   "cell_type": "code",
   "execution_count": 12,
   "metadata": {},
   "outputs": [],
   "source": [
    "# Save the model\n",
    "ft_model.save(\"../trained_embedding_models/my_fastText_model.model\")"
   ]
  }
 ],
 "metadata": {
  "kernelspec": {
   "display_name": ".venv",
   "language": "python",
   "name": "python3"
  },
  "language_info": {
   "codemirror_mode": {
    "name": "ipython",
    "version": 3
   },
   "file_extension": ".py",
   "mimetype": "text/x-python",
   "name": "python",
   "nbconvert_exporter": "python",
   "pygments_lexer": "ipython3",
   "version": "3.9.9"
  }
 },
 "nbformat": 4,
 "nbformat_minor": 2
}
