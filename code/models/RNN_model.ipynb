{
  "cells": [
    {
      "cell_type": "code",
      "execution_count": null,
      "metadata": {
        "id": "QbdVwghzCCKG"
      },
      "outputs": [],
      "source": [
        "%pip install --upgrade keras"
      ]
    },
    {
      "cell_type": "code",
      "execution_count": 56,
      "metadata": {
        "id": "PznNg7iqCCKI"
      },
      "outputs": [],
      "source": [
        "from sklearn.metrics import classification_report\n",
        "from tensorflow.keras.preprocessing.text import Tokenizer\n",
        "from tensorflow.keras.preprocessing.sequence import pad_sequences\n",
        "from tensorflow.keras.models import Sequential\n",
        "from tensorflow.keras.optimizers import Adam\n",
        "from tensorflow.keras.layers import Embedding, Bidirectional, LSTM, Dense, BatchNormalization, Dropout, Masking\n",
        "from tensorflow.keras.callbacks import EarlyStopping\n",
        "from tensorflow.keras.utils import to_categorical\n",
        "from tensorflow.keras.optimizers.schedules import ExponentialDecay\n",
        "from tensorflow.keras.regularizers import l2\n",
        "import numpy as np\n",
        "import pickle\n"
      ]
    },
    {
      "cell_type": "code",
      "execution_count": 3,
      "metadata": {
        "id": "MCOv-s3aCCKJ"
      },
      "outputs": [],
      "source": [
        "# To load the list or array back\n",
        "with open('hatexplain_data.pickle', 'rb') as file:\n",
        "    data = pickle.load(file)"
      ]
    },
    {
      "cell_type": "code",
      "execution_count": 75,
      "metadata": {
        "id": "rkWIce7ECCKJ"
      },
      "outputs": [],
      "source": [
        "train_documents = data[\"train_documents\"]\n",
        "train_documents = [\" \".join(tokens) for tokens in train_documents]\n",
        "test_documents = data[\"test_documents\"]\n",
        "test_documents = [\" \".join(tokens) for tokens in test_documents]\n",
        "y_train = data[\"y_train\"]\n",
        "y_test = data[\"y_test\"]"
      ]
    },
    {
      "cell_type": "code",
      "execution_count": 76,
      "metadata": {
        "colab": {
          "base_uri": "https://localhost:8080/"
        },
        "id": "4Mjp7lnRCCKK",
        "outputId": "2b4a216e-d4ca-436d-fbe6-0bdbdcbf235a"
      },
      "outputs": [
        {
          "output_type": "stream",
          "name": "stdout",
          "text": [
            "Vocabulary Size: 26804\n",
            "Maximum Document Length: 88\n"
          ]
        }
      ],
      "source": [
        "# Assuming training_documents and test_documents are lists of text documents\n",
        "all_documents = train_documents + test_documents\n",
        "\n",
        "# Initialize the tokenizer with no limit on the number of words (vocab_size)\n",
        "tokenizer = Tokenizer(oov_token=\"<OOV>\")\n",
        "tokenizer.fit_on_texts(all_documents)\n",
        "\n",
        "# Tokenize the documents to find the maximum document length\n",
        "sequences = tokenizer.texts_to_sequences(all_documents)\n",
        "max_length = max(len(x) for x in sequences)\n",
        "\n",
        "# Find the vocabulary size\n",
        "# The tokenizer's word_index contains all unique tokens + 1 for the OOV token\n",
        "vocab_size = len(tokenizer.word_index) + 1\n",
        "\n",
        "print(f\"Vocabulary Size: {vocab_size}\")\n",
        "print(f\"Maximum Document Length: {max_length}\")"
      ]
    },
    {
      "cell_type": "markdown",
      "metadata": {
        "id": "uyZD3kB-CCKL"
      },
      "source": [
        "<h1>Bi-LSTM Hate Speech Model</h1>"
      ]
    },
    {
      "cell_type": "code",
      "execution_count": 89,
      "metadata": {
        "id": "yD0N5rnECCKN"
      },
      "outputs": [],
      "source": [
        "# Assuming you have your documents and labels loaded in `documents` and `labels`\n",
        "# and your labels are one-hot encoded for the categories ['hate', 'normal', 'offensive']\n",
        "\n",
        "# Parameters\n",
        "vocab_size = 26800  # Adjust based on your vocabulary size\n",
        "embedding_dim = 300  # Size of the embedding vector\n",
        "max_length = 70  # Max length of the documents\n",
        "trunc_type = 'post'\n",
        "padding_type = 'post'\n",
        "oov_tok = \"<OOV>\"  # for out-of-vocabulary tokens\n",
        "dropout_rate = 0.5\n",
        "\n",
        "# Tokenize the documents\n",
        "tokenizer = Tokenizer(num_words=vocab_size, oov_token=oov_tok)\n",
        "tokenizer.fit_on_texts(train_documents)\n",
        "sequences = tokenizer.texts_to_sequences(train_documents)\n",
        "X_train = pad_sequences(sequences, maxlen=max_length, padding=padding_type, truncating=trunc_type)\n",
        "\n",
        "# Build the model\n",
        "model = Sequential([\n",
        "    Embedding(vocab_size, embedding_dim),\n",
        "    Dropout(0.5),\n",
        "    Bidirectional(LSTM(64, return_sequences=True)),\n",
        "    Dropout(0.5),\n",
        "    Bidirectional(LSTM(64)),\n",
        "    Dense(64, activation='relu'),\n",
        "    Dense(3, activation='softmax')\n",
        "])\n",
        "\n",
        "optimizer = Adam(learning_rate=0.0001)\n",
        "\n",
        "# Compile the model\n",
        "model.compile(loss='sparse_categorical_crossentropy', optimizer=optimizer, metrics=['accuracy'])\n",
        "\n"
      ]
    },
    {
      "cell_type": "code",
      "execution_count": 78,
      "metadata": {
        "colab": {
          "base_uri": "https://localhost:8080/"
        },
        "id": "NBd7nyjrCCKO",
        "outputId": "a9135623-185c-4f92-867b-2e12906101ce"
      },
      "outputs": [
        {
          "output_type": "stream",
          "name": "stdout",
          "text": [
            "(15383, 70)\n",
            "[219  59  16 640 243   0   0   0   0   0   0   0   0   0   0   0   0   0\n",
            "   0   0   0   0   0   0   0   0   0   0   0   0   0   0   0   0   0   0\n",
            "   0   0   0   0   0   0   0   0   0   0   0   0   0   0   0   0   0   0\n",
            "   0   0   0   0   0   0   0   0   0   0   0   0   0   0   0   0]\n"
          ]
        }
      ],
      "source": [
        "print(X_train.shape)\n",
        "print(X_train[10000])"
      ]
    },
    {
      "cell_type": "code",
      "execution_count": 90,
      "metadata": {
        "colab": {
          "base_uri": "https://localhost:8080/"
        },
        "id": "MYcuYTtuCCKO",
        "outputId": "809634b9-fd45-467b-c1d3-f5886e692a9e"
      },
      "outputs": [
        {
          "output_type": "stream",
          "name": "stdout",
          "text": [
            "Epoch 1/5\n",
            "\u001b[1m97/97\u001b[0m \u001b[32m━━━━━━━━━━━━━━━━━━━━\u001b[0m\u001b[37m\u001b[0m \u001b[1m8s\u001b[0m 25ms/step - accuracy: 0.3965 - loss: 1.0891 - val_accuracy: 0.4053 - val_loss: 1.0755\n",
            "Epoch 2/5\n",
            "\u001b[1m97/97\u001b[0m \u001b[32m━━━━━━━━━━━━━━━━━━━━\u001b[0m\u001b[37m\u001b[0m \u001b[1m2s\u001b[0m 21ms/step - accuracy: 0.4403 - loss: 1.0528 - val_accuracy: 0.5678 - val_loss: 0.9218\n",
            "Epoch 3/5\n",
            "\u001b[1m97/97\u001b[0m \u001b[32m━━━━━━━━━━━━━━━━━━━━\u001b[0m\u001b[37m\u001b[0m \u001b[1m2s\u001b[0m 21ms/step - accuracy: 0.5896 - loss: 0.8817 - val_accuracy: 0.5964 - val_loss: 0.8457\n",
            "Epoch 4/5\n",
            "\u001b[1m97/97\u001b[0m \u001b[32m━━━━━━━━━━━━━━━━━━━━\u001b[0m\u001b[37m\u001b[0m \u001b[1m3s\u001b[0m 26ms/step - accuracy: 0.6453 - loss: 0.7745 - val_accuracy: 0.6139 - val_loss: 0.8215\n",
            "Epoch 5/5\n",
            "\u001b[1m97/97\u001b[0m \u001b[32m━━━━━━━━━━━━━━━━━━━━\u001b[0m\u001b[37m\u001b[0m \u001b[1m2s\u001b[0m 21ms/step - accuracy: 0.6745 - loss: 0.7243 - val_accuracy: 0.6220 - val_loss: 0.8314\n"
          ]
        },
        {
          "output_type": "execute_result",
          "data": {
            "text/plain": [
              "<keras.src.callbacks.history.History at 0x7892c6f057e0>"
            ]
          },
          "metadata": {},
          "execution_count": 90
        }
      ],
      "source": [
        "model.fit(X_train, y_train, epochs=5, batch_size=128, validation_split=0.2)"
      ]
    },
    {
      "cell_type": "code",
      "source": [
        "model.fit(X_train, y_train, epochs=5, batch_size=128)"
      ],
      "metadata": {
        "colab": {
          "base_uri": "https://localhost:8080/"
        },
        "id": "EoR0xia6NSck",
        "outputId": "2b3c3eed-f44d-4755-b888-ca7784dac180"
      },
      "execution_count": 83,
      "outputs": [
        {
          "output_type": "stream",
          "name": "stdout",
          "text": [
            "Epoch 1/5\n",
            "\u001b[1m121/121\u001b[0m \u001b[32m━━━━━━━━━━━━━━━━━━━━\u001b[0m\u001b[37m\u001b[0m \u001b[1m7s\u001b[0m 23ms/step - accuracy: 0.4061 - loss: 1.0863\n",
            "Epoch 2/5\n",
            "\u001b[1m121/121\u001b[0m \u001b[32m━━━━━━━━━━━━━━━━━━━━\u001b[0m\u001b[37m\u001b[0m \u001b[1m5s\u001b[0m 19ms/step - accuracy: 0.4939 - loss: 1.0024\n",
            "Epoch 3/5\n",
            "\u001b[1m121/121\u001b[0m \u001b[32m━━━━━━━━━━━━━━━━━━━━\u001b[0m\u001b[37m\u001b[0m \u001b[1m2s\u001b[0m 19ms/step - accuracy: 0.6141 - loss: 0.8182\n",
            "Epoch 4/5\n",
            "\u001b[1m121/121\u001b[0m \u001b[32m━━━━━━━━━━━━━━━━━━━━\u001b[0m\u001b[37m\u001b[0m \u001b[1m2s\u001b[0m 19ms/step - accuracy: 0.6600 - loss: 0.7402\n",
            "Epoch 5/5\n",
            "\u001b[1m121/121\u001b[0m \u001b[32m━━━━━━━━━━━━━━━━━━━━\u001b[0m\u001b[37m\u001b[0m \u001b[1m3s\u001b[0m 22ms/step - accuracy: 0.6937 - loss: 0.6815\n"
          ]
        },
        {
          "output_type": "execute_result",
          "data": {
            "text/plain": [
              "<keras.src.callbacks.history.History at 0x7892c03f2950>"
            ]
          },
          "metadata": {},
          "execution_count": 83
        }
      ]
    },
    {
      "cell_type": "code",
      "execution_count": 84,
      "metadata": {
        "id": "WtSkD50-CCKP"
      },
      "outputs": [],
      "source": [
        "test_sequences = tokenizer.texts_to_sequences(test_documents)\n",
        "X_test = pad_sequences(test_sequences, maxlen=max_length, padding=padding_type, truncating=trunc_type)"
      ]
    },
    {
      "cell_type": "code",
      "execution_count": 86,
      "metadata": {
        "colab": {
          "base_uri": "https://localhost:8080/"
        },
        "id": "K8JYT8OUCCKP",
        "outputId": "278ad331-e09a-4e58-db09-810c9c0c2ee0"
      },
      "outputs": [
        {
          "output_type": "stream",
          "name": "stdout",
          "text": [
            "\u001b[1m121/121\u001b[0m \u001b[32m━━━━━━━━━━━━━━━━━━━━\u001b[0m\u001b[37m\u001b[0m \u001b[1m1s\u001b[0m 5ms/step\n"
          ]
        }
      ],
      "source": [
        "pred = model.predict(X_test)"
      ]
    },
    {
      "cell_type": "code",
      "source": [
        "y_pred = np.argmax(pred, axis=1)"
      ],
      "metadata": {
        "id": "-aDvl2pNGpdH"
      },
      "execution_count": 87,
      "outputs": []
    },
    {
      "cell_type": "code",
      "source": [
        "print(classification_report(y_true=y_test, y_pred=y_pred))"
      ],
      "metadata": {
        "colab": {
          "base_uri": "https://localhost:8080/"
        },
        "id": "3RrPuNgHGsVd",
        "outputId": "74a34cc9-110f-4b44-c042-fe828242c8ca"
      },
      "execution_count": 88,
      "outputs": [
        {
          "output_type": "stream",
          "name": "stdout",
          "text": [
            "              precision    recall  f1-score   support\n",
            "\n",
            "           0       0.72      0.73      0.72      1187\n",
            "           1       0.70      0.64      0.67      1563\n",
            "           2       0.43      0.47      0.45      1096\n",
            "\n",
            "    accuracy                           0.62      3846\n",
            "   macro avg       0.61      0.61      0.61      3846\n",
            "weighted avg       0.63      0.62      0.62      3846\n",
            "\n"
          ]
        }
      ]
    }
  ],
  "metadata": {
    "kernelspec": {
      "display_name": "Python 3",
      "name": "python3"
    },
    "language_info": {
      "codemirror_mode": {
        "name": "ipython",
        "version": 3
      },
      "file_extension": ".py",
      "mimetype": "text/x-python",
      "name": "python",
      "nbconvert_exporter": "python",
      "pygments_lexer": "ipython3",
      "version": "3.9.9"
    },
    "colab": {
      "provenance": [],
      "gpuType": "V100"
    },
    "accelerator": "GPU"
  },
  "nbformat": 4,
  "nbformat_minor": 0
}